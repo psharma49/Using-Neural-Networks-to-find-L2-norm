{
 "cells": [
  {
   "cell_type": "code",
   "execution_count": 65,
   "metadata": {},
   "outputs": [],
   "source": [
    "#Approximating the L2 norm using neural network using keras and numpy \n",
    "\n",
    "import numpy as np\n",
    "import tensorflow as tf\n",
    "import keras\n"
   ]
  },
  {
   "cell_type": "code",
   "execution_count": 66,
   "metadata": {},
   "outputs": [],
   "source": [
    "from keras.layers import Dense, Flatten, Dropout\n",
    "from keras.models import Sequential\n"
   ]
  },
  {
   "cell_type": "code",
   "execution_count": 67,
   "metadata": {},
   "outputs": [],
   "source": [
    "model = Sequential()"
   ]
  },
  {
   "cell_type": "code",
   "execution_count": 68,
   "metadata": {},
   "outputs": [],
   "source": [
    "#building the neural network model\n",
    "model.add(Dense (100, activation='relu',input_shape=(1,100)))\n",
    "model.add(Dense(80,activation='relu'))\n",
    "model.add(Dense(60,activation='relu'))\n",
    "model.add(Dense(40,activation='relu'))\n",
    "model.add(Dense(20,activation='relu'))\n",
    "model.add(Dense(10,activation='relu'))\n",
    "model.add(Dense(1,activation='relu'))"
   ]
  },
  {
   "cell_type": "code",
   "execution_count": 69,
   "metadata": {},
   "outputs": [
    {
     "data": {
      "text/plain": [
       "3.7416573867739413"
      ]
     },
     "execution_count": 69,
     "metadata": {},
     "output_type": "execute_result"
    }
   ],
   "source": [
    "a=[2,3,1]\n",
    "np.linalg.norm(a)"
   ]
  },
  {
   "cell_type": "code",
   "execution_count": 70,
   "metadata": {},
   "outputs": [
    {
     "data": {
      "text/plain": [
       "array([3.74165739, 8.60232527, 7.48331477])"
      ]
     },
     "execution_count": 70,
     "metadata": {},
     "output_type": "execute_result"
    }
   ],
   "source": [
    "b=[[2,3,1],[1,8,3],[6,2,4]]\n",
    "np.linalg.norm(b,axis=1)"
   ]
  },
  {
   "cell_type": "code",
   "execution_count": 71,
   "metadata": {
    "scrolled": true
   },
   "outputs": [
    {
     "name": "stdout",
     "output_type": "stream",
     "text": [
      "[[-8.67506936  0.93559047  2.43728016 -0.18862088 -4.00699619 -3.15757402\n",
      "  -3.83093041  1.17854069  4.64751787 -3.20683457  7.27025906 -6.78275788\n",
      "  -2.17548844 -2.47027145 -4.91323356 -3.17008874 -4.64990582 -8.41319553\n",
      "   6.80469518  0.63041783  3.87850441  1.00280048  8.27480223 -3.78819996\n",
      "  -6.66631384  7.79314478 -4.83177525  6.63947899  1.66393883  7.22802272\n",
      "   2.3258096  -1.85537265  8.81928603 -5.61253933  9.80976243  2.00560731\n",
      "   6.41947493 -0.30923267 -0.16610733 -5.95360756 -5.15133558  4.7252358\n",
      "  -6.02169882  1.30048347 -6.79216967  5.74840889 -8.10964611 -5.25931229\n",
      "  -9.78564768 -4.04484109  2.05528601 -1.85458988 -5.91119018 -8.6683645\n",
      "   2.06332517 -2.97275912 -2.61458987 -0.57483626 -5.83838673  3.87499539\n",
      "  -0.35901395  7.26072198 -1.23326739 -8.51602655  9.94400348 -0.72709424\n",
      "   0.98151778 -9.25075235  0.9843751  -6.95989601  8.89007971  3.46968257\n",
      "  -0.40877521 -5.94733504 -9.8611637  -2.20380357 -5.86883646 -2.95273487\n",
      "  -2.16886801 -9.36434188 -6.72584053 -2.17998914 -0.78423724 -2.5928894\n",
      "  -3.09356823  0.91231184 -3.34285862  1.97380646 -9.84487846  9.54965475\n",
      "  -3.46348271  1.43062289 -3.83610521  0.69154365  6.18295058 -6.52908672\n",
      "  -7.55276424 -0.28717888  6.32246982  5.73331337]]\n"
     ]
    }
   ],
   "source": [
    "#randomly generating the training data\n",
    "y_train= x_train=np.random.rand(100000,1,100)*20-10\n",
    "print(x_train[15])"
   ]
  },
  {
   "cell_type": "code",
   "execution_count": 72,
   "metadata": {},
   "outputs": [
    {
     "name": "stdout",
     "output_type": "stream",
     "text": [
      "(100000, 1, 100)\n"
     ]
    }
   ],
   "source": [
    "print(x_train.shape)"
   ]
  },
  {
   "cell_type": "code",
   "execution_count": 73,
   "metadata": {
    "scrolled": true
   },
   "outputs": [
    {
     "data": {
      "text/plain": [
       "10000000"
      ]
     },
     "execution_count": 73,
     "metadata": {},
     "output_type": "execute_result"
    }
   ],
   "source": [
    "x_train.size"
   ]
  },
  {
   "cell_type": "code",
   "execution_count": 74,
   "metadata": {},
   "outputs": [],
   "source": [
    "#making the training set suitable for vectors ranging from 1-100 dimensions\n",
    "\n",
    "for i in range(100000):\n",
    "    n=np.random.randint(1,101)\n",
    "    x_train[i][0][n:100]=0"
   ]
  },
  {
   "cell_type": "code",
   "execution_count": 75,
   "metadata": {},
   "outputs": [
    {
     "data": {
      "text/plain": [
       "array([[ 4.27204127,  7.83677014,  9.7775079 , -5.52248589,  4.54098398,\n",
       "        -8.46809271,  7.51170919,  8.23233542, -4.04583509,  4.53771101,\n",
       "         4.9184187 , -7.66559207, -4.32051378,  1.76264527, -8.54457109,\n",
       "         3.33152789,  7.03726851, -9.25238622, -9.19344423,  6.30874876,\n",
       "         4.43017033,  3.46423569,  3.86748315,  9.52279364, -2.69979197,\n",
       "        -4.34958126,  6.35987776, -4.17675247,  4.21944299, -3.72694918,\n",
       "         1.73691154, -6.24188287, -3.87106385, -6.32899269, -1.28731476,\n",
       "        -2.22485837, -5.37014173,  8.56347484, -4.85743429,  3.64407789,\n",
       "        -8.08241345,  6.77184806,  4.72584068,  2.00130674,  4.03793769,\n",
       "        -7.95006322, -1.59764006,  0.73541464,  6.76294679, -5.61685617,\n",
       "        -8.97853459,  2.24785385, -7.21136634, -8.77071126,  4.63522654,\n",
       "        -4.44757032,  0.        ,  0.        ,  0.        ,  0.        ,\n",
       "         0.        ,  0.        ,  0.        ,  0.        ,  0.        ,\n",
       "         0.        ,  0.        ,  0.        ,  0.        ,  0.        ,\n",
       "         0.        ,  0.        ,  0.        ,  0.        ,  0.        ,\n",
       "         0.        ,  0.        ,  0.        ,  0.        ,  0.        ,\n",
       "         0.        ,  0.        ,  0.        ,  0.        ,  0.        ,\n",
       "         0.        ,  0.        ,  0.        ,  0.        ,  0.        ,\n",
       "         0.        ,  0.        ,  0.        ,  0.        ,  0.        ,\n",
       "         0.        ,  0.        ,  0.        ,  0.        ,  0.        ]])"
      ]
     },
     "execution_count": 75,
     "metadata": {},
     "output_type": "execute_result"
    }
   ],
   "source": [
    "x_train[27]"
   ]
  },
  {
   "cell_type": "code",
   "execution_count": 76,
   "metadata": {},
   "outputs": [
    {
     "name": "stdout",
     "output_type": "stream",
     "text": [
      "(100000, 1, 100)\n"
     ]
    }
   ],
   "source": [
    "print(y_train.shape)"
   ]
  },
  {
   "cell_type": "code",
   "execution_count": 77,
   "metadata": {},
   "outputs": [
    {
     "name": "stdout",
     "output_type": "stream",
     "text": [
      "_________________________________________________________________\n",
      "Layer (type)                 Output Shape              Param #   \n",
      "=================================================================\n",
      "dense_22 (Dense)             (None, 1, 100)            10100     \n",
      "_________________________________________________________________\n",
      "dense_23 (Dense)             (None, 1, 80)             8080      \n",
      "_________________________________________________________________\n",
      "dense_24 (Dense)             (None, 1, 60)             4860      \n",
      "_________________________________________________________________\n",
      "dense_25 (Dense)             (None, 1, 40)             2440      \n",
      "_________________________________________________________________\n",
      "dense_26 (Dense)             (None, 1, 20)             820       \n",
      "_________________________________________________________________\n",
      "dense_27 (Dense)             (None, 1, 10)             210       \n",
      "_________________________________________________________________\n",
      "dense_28 (Dense)             (None, 1, 1)              11        \n",
      "=================================================================\n",
      "Total params: 26,521\n",
      "Trainable params: 26,521\n",
      "Non-trainable params: 0\n",
      "_________________________________________________________________\n"
     ]
    }
   ],
   "source": [
    "model.summary()\n"
   ]
  },
  {
   "cell_type": "code",
   "execution_count": 78,
   "metadata": {},
   "outputs": [
    {
     "name": "stdout",
     "output_type": "stream",
     "text": [
      "(100000, 1)\n"
     ]
    }
   ],
   "source": [
    "y_train = np.linalg.norm(x_train,axis=2)\n",
    "print(y_train.shape)"
   ]
  },
  {
   "cell_type": "code",
   "execution_count": 79,
   "metadata": {},
   "outputs": [
    {
     "name": "stdout",
     "output_type": "stream",
     "text": [
      "(100000, 1, 1)\n"
     ]
    }
   ],
   "source": [
    "y_train = np.expand_dims(y_train,axis = 2)\n",
    "print(y_train.shape)"
   ]
  },
  {
   "cell_type": "code",
   "execution_count": 80,
   "metadata": {},
   "outputs": [
    {
     "data": {
      "text/plain": [
       "array([[-3.97944227,  1.60202237,  7.21658859,  6.53874706,  3.70734944,\n",
       "        -0.83382457, -7.61503582,  0.48992101, -1.70318974,  8.56015606,\n",
       "         2.80230934, -2.40979511, -0.49516259, -0.10427175,  2.03672595,\n",
       "        -7.83261364, -3.27723989, -6.39309407, -0.51417842, -3.93698971,\n",
       "         9.18266519, -0.2947685 ,  8.20825287,  5.03263442, -3.52755755,\n",
       "         6.85597872,  6.53702514,  0.40702449, -3.57236962, -5.17298727,\n",
       "         7.22779583,  6.51449576, -9.92052576,  6.40524746, -4.89693622,\n",
       "        -3.41677839,  7.12953624,  6.65355505,  6.10607581,  1.21148678,\n",
       "        -1.85201513,  9.58953799,  9.84917947,  4.88581503, -6.19449162,\n",
       "         3.69149353,  1.30298834, -2.93540989, -8.55212596,  3.08927734,\n",
       "         7.25152005, -9.86896369,  4.3671696 ,  4.84723785,  4.77435729,\n",
       "         8.68338847, -5.94861622,  9.64166031, -2.70566261,  2.57946048,\n",
       "         1.69095168, -2.736743  ,  5.72137516,  2.18251945,  0.1684009 ,\n",
       "         8.17476599, -8.62828175,  9.49007618, -5.42186799, -5.74531566,\n",
       "         0.        ,  0.        ,  0.        ,  0.        ,  0.        ,\n",
       "         0.        ,  0.        ,  0.        ,  0.        ,  0.        ,\n",
       "         0.        ,  0.        ,  0.        ,  0.        ,  0.        ,\n",
       "         0.        ,  0.        ,  0.        ,  0.        ,  0.        ,\n",
       "         0.        ,  0.        ,  0.        ,  0.        ,  0.        ,\n",
       "         0.        ,  0.        ,  0.        ,  0.        ,  0.        ]])"
      ]
     },
     "execution_count": 80,
     "metadata": {},
     "output_type": "execute_result"
    }
   ],
   "source": [
    "x_train[369]"
   ]
  },
  {
   "cell_type": "code",
   "execution_count": 81,
   "metadata": {},
   "outputs": [
    {
     "data": {
      "text/plain": [
       "array([[34.98423386]])"
      ]
     },
     "execution_count": 81,
     "metadata": {},
     "output_type": "execute_result"
    }
   ],
   "source": [
    "y_train[12]"
   ]
  },
  {
   "cell_type": "code",
   "execution_count": 82,
   "metadata": {
    "scrolled": true
   },
   "outputs": [
    {
     "name": "stdout",
     "output_type": "stream",
     "text": [
      "Train on 70000 samples, validate on 30000 samples\n",
      "Epoch 1/50\n",
      "70000/70000 [==============================] - 2s 32us/step - loss: 63.2221 - mean_squared_error: 63.2221 - val_loss: 4.6695 - val_mean_squared_error: 4.6695\n",
      "Epoch 2/50\n",
      "70000/70000 [==============================] - 2s 25us/step - loss: 3.3855 - mean_squared_error: 3.3855 - val_loss: 2.8767 - val_mean_squared_error: 2.8767\n",
      "Epoch 3/50\n",
      "70000/70000 [==============================] - 2s 25us/step - loss: 2.1356 - mean_squared_error: 2.1356 - val_loss: 2.3848 - val_mean_squared_error: 2.3848\n",
      "Epoch 4/50\n",
      "70000/70000 [==============================] - 2s 25us/step - loss: 1.6234 - mean_squared_error: 1.6234 - val_loss: 2.1275 - val_mean_squared_error: 2.1275\n",
      "Epoch 5/50\n",
      "70000/70000 [==============================] - 2s 25us/step - loss: 1.3777 - mean_squared_error: 1.3777 - val_loss: 1.8099 - val_mean_squared_error: 1.8099\n",
      "Epoch 6/50\n",
      "70000/70000 [==============================] - 2s 25us/step - loss: 1.2379 - mean_squared_error: 1.2379 - val_loss: 1.6227 - val_mean_squared_error: 1.6227\n",
      "Epoch 7/50\n",
      "70000/70000 [==============================] - 2s 25us/step - loss: 1.1461 - mean_squared_error: 1.1461 - val_loss: 1.6272 - val_mean_squared_error: 1.6272\n",
      "Epoch 8/50\n",
      "70000/70000 [==============================] - 2s 25us/step - loss: 1.0675 - mean_squared_error: 1.0675 - val_loss: 1.4815 - val_mean_squared_error: 1.4815\n",
      "Epoch 9/50\n",
      "70000/70000 [==============================] - 2s 25us/step - loss: 1.0491 - mean_squared_error: 1.0491 - val_loss: 1.4984 - val_mean_squared_error: 1.4984\n",
      "Epoch 10/50\n",
      "70000/70000 [==============================] - 2s 25us/step - loss: 0.9760 - mean_squared_error: 0.9760 - val_loss: 1.4313 - val_mean_squared_error: 1.4313\n",
      "Epoch 11/50\n",
      "70000/70000 [==============================] - 2s 25us/step - loss: 0.9542 - mean_squared_error: 0.9542 - val_loss: 1.4047 - val_mean_squared_error: 1.4047\n",
      "Epoch 12/50\n",
      "70000/70000 [==============================] - 2s 31us/step - loss: 0.8989 - mean_squared_error: 0.8989 - val_loss: 1.5008 - val_mean_squared_error: 1.5008\n",
      "Epoch 13/50\n",
      "70000/70000 [==============================] - 2s 26us/step - loss: 0.8811 - mean_squared_error: 0.8811 - val_loss: 1.5175 - val_mean_squared_error: 1.5175\n",
      "Epoch 14/50\n",
      "70000/70000 [==============================] - 2s 26us/step - loss: 0.8427 - mean_squared_error: 0.8427 - val_loss: 1.5975 - val_mean_squared_error: 1.5975\n",
      "Epoch 15/50\n",
      "70000/70000 [==============================] - 2s 26us/step - loss: 0.8203 - mean_squared_error: 0.8203 - val_loss: 1.3716 - val_mean_squared_error: 1.3716\n",
      "Epoch 16/50\n",
      "70000/70000 [==============================] - 2s 26us/step - loss: 0.7805 - mean_squared_error: 0.7805 - val_loss: 1.3610 - val_mean_squared_error: 1.3610\n",
      "Epoch 17/50\n",
      "70000/70000 [==============================] - 2s 26us/step - loss: 0.7846 - mean_squared_error: 0.7846 - val_loss: 2.2338 - val_mean_squared_error: 2.2338\n",
      "Epoch 18/50\n",
      "70000/70000 [==============================] - 2s 28us/step - loss: 0.7620 - mean_squared_error: 0.7620 - val_loss: 1.2919 - val_mean_squared_error: 1.2919\n",
      "Epoch 19/50\n",
      "70000/70000 [==============================] - 2s 25us/step - loss: 0.7215 - mean_squared_error: 0.7215 - val_loss: 1.2586 - val_mean_squared_error: 1.2586\n",
      "Epoch 20/50\n",
      "70000/70000 [==============================] - 2s 26us/step - loss: 0.7169 - mean_squared_error: 0.7169 - val_loss: 1.3186 - val_mean_squared_error: 1.3186\n",
      "Epoch 21/50\n",
      "70000/70000 [==============================] - 2s 26us/step - loss: 0.6906 - mean_squared_error: 0.6906 - val_loss: 1.6349 - val_mean_squared_error: 1.6349\n",
      "Epoch 22/50\n",
      "70000/70000 [==============================] - 2s 26us/step - loss: 0.6829 - mean_squared_error: 0.6829 - val_loss: 1.2904 - val_mean_squared_error: 1.2904\n",
      "Epoch 23/50\n",
      "70000/70000 [==============================] - 2s 26us/step - loss: 0.6940 - mean_squared_error: 0.6940 - val_loss: 1.2447 - val_mean_squared_error: 1.2447\n",
      "Epoch 24/50\n",
      "70000/70000 [==============================] - 2s 26us/step - loss: 0.6545 - mean_squared_error: 0.6545 - val_loss: 1.2984 - val_mean_squared_error: 1.2984\n",
      "Epoch 25/50\n",
      "70000/70000 [==============================] - 2s 26us/step - loss: 0.6535 - mean_squared_error: 0.6535 - val_loss: 1.2655 - val_mean_squared_error: 1.2655\n",
      "Epoch 26/50\n",
      "70000/70000 [==============================] - 2s 26us/step - loss: 0.6413 - mean_squared_error: 0.6413 - val_loss: 1.1996 - val_mean_squared_error: 1.1996\n",
      "Epoch 27/50\n",
      "70000/70000 [==============================] - 2s 26us/step - loss: 0.6278 - mean_squared_error: 0.6278 - val_loss: 1.3265 - val_mean_squared_error: 1.3265\n",
      "Epoch 28/50\n",
      "70000/70000 [==============================] - 2s 27us/step - loss: 0.6177 - mean_squared_error: 0.6177 - val_loss: 1.2390 - val_mean_squared_error: 1.2390\n",
      "Epoch 29/50\n",
      "70000/70000 [==============================] - 2s 31us/step - loss: 0.5997 - mean_squared_error: 0.5997 - val_loss: 1.2266 - val_mean_squared_error: 1.2266\n",
      "Epoch 30/50\n",
      "70000/70000 [==============================] - 2s 26us/step - loss: 0.5789 - mean_squared_error: 0.5789 - val_loss: 1.3762 - val_mean_squared_error: 1.3762\n",
      "Epoch 31/50\n",
      "70000/70000 [==============================] - 2s 26us/step - loss: 0.6194 - mean_squared_error: 0.6194 - val_loss: 1.2386 - val_mean_squared_error: 1.2386\n",
      "Epoch 32/50\n",
      "70000/70000 [==============================] - 2s 26us/step - loss: 0.5574 - mean_squared_error: 0.5574 - val_loss: 1.2366 - val_mean_squared_error: 1.2366\n",
      "Epoch 33/50\n",
      "70000/70000 [==============================] - 2s 26us/step - loss: 0.5770 - mean_squared_error: 0.5770 - val_loss: 1.2256 - val_mean_squared_error: 1.2256\n",
      "Epoch 34/50\n",
      "70000/70000 [==============================] - 2s 26us/step - loss: 0.5739 - mean_squared_error: 0.5739 - val_loss: 1.6026 - val_mean_squared_error: 1.6026\n",
      "Epoch 35/50\n",
      "70000/70000 [==============================] - 2s 26us/step - loss: 0.5697 - mean_squared_error: 0.5697 - val_loss: 1.2373 - val_mean_squared_error: 1.2373\n",
      "Epoch 36/50\n",
      "70000/70000 [==============================] - 2s 26us/step - loss: 0.5426 - mean_squared_error: 0.5426 - val_loss: 1.2231 - val_mean_squared_error: 1.2231\n",
      "Epoch 37/50\n",
      "70000/70000 [==============================] - 2s 27us/step - loss: 0.5443 - mean_squared_error: 0.5443 - val_loss: 1.1832 - val_mean_squared_error: 1.1832\n",
      "Epoch 38/50\n",
      "70000/70000 [==============================] - 2s 29us/step - loss: 0.5454 - mean_squared_error: 0.5454 - val_loss: 1.1795 - val_mean_squared_error: 1.1795\n",
      "Epoch 39/50\n",
      "70000/70000 [==============================] - 2s 26us/step - loss: 0.5341 - mean_squared_error: 0.5341 - val_loss: 1.2196 - val_mean_squared_error: 1.2196\n",
      "Epoch 40/50\n",
      "70000/70000 [==============================] - 2s 26us/step - loss: 0.5179 - mean_squared_error: 0.5179 - val_loss: 1.1984 - val_mean_squared_error: 1.1984\n",
      "Epoch 41/50\n",
      "70000/70000 [==============================] - 2s 27us/step - loss: 0.5220 - mean_squared_error: 0.5220 - val_loss: 1.2120 - val_mean_squared_error: 1.2120\n",
      "Epoch 42/50\n",
      "70000/70000 [==============================] - 2s 29us/step - loss: 0.5168 - mean_squared_error: 0.5168 - val_loss: 1.2366 - val_mean_squared_error: 1.2366\n",
      "Epoch 43/50\n",
      "70000/70000 [==============================] - 2s 26us/step - loss: 0.5079 - mean_squared_error: 0.5079 - val_loss: 1.1662 - val_mean_squared_error: 1.1662\n",
      "Epoch 44/50\n",
      "70000/70000 [==============================] - 2s 26us/step - loss: 0.5056 - mean_squared_error: 0.5056 - val_loss: 1.1910 - val_mean_squared_error: 1.1910\n",
      "Epoch 45/50\n",
      "70000/70000 [==============================] - 2s 27us/step - loss: 0.5071 - mean_squared_error: 0.5071 - val_loss: 1.1793 - val_mean_squared_error: 1.1793\n",
      "Epoch 46/50\n",
      "70000/70000 [==============================] - 2s 27us/step - loss: 0.5017 - mean_squared_error: 0.5017 - val_loss: 1.1620 - val_mean_squared_error: 1.1620\n",
      "Epoch 47/50\n",
      "70000/70000 [==============================] - 2s 30us/step - loss: 0.4974 - mean_squared_error: 0.4974 - val_loss: 1.1828 - val_mean_squared_error: 1.1828\n",
      "Epoch 48/50\n",
      "70000/70000 [==============================] - 2s 28us/step - loss: 0.4732 - mean_squared_error: 0.4732 - val_loss: 1.3317 - val_mean_squared_error: 1.3317\n",
      "Epoch 49/50\n"
     ]
    },
    {
     "name": "stdout",
     "output_type": "stream",
     "text": [
      "70000/70000 [==============================] - 2s 27us/step - loss: 0.4936 - mean_squared_error: 0.4936 - val_loss: 1.1750 - val_mean_squared_error: 1.1750\n",
      "Epoch 50/50\n",
      "70000/70000 [==============================] - 2s 24us/step - loss: 0.4935 - mean_squared_error: 0.4935 - val_loss: 1.1794 - val_mean_squared_error: 1.1794\n"
     ]
    },
    {
     "data": {
      "text/plain": [
       "<keras.callbacks.History at 0x7f25bda2ffd0>"
      ]
     },
     "execution_count": 82,
     "metadata": {},
     "output_type": "execute_result"
    }
   ],
   "source": [
    "model.compile(loss='mean_squared_error',optimizer='adam',metrics=['mse'])\n",
    "model.fit(x_train,y_train,verbose=1,epochs=50,validation_split=0.3,batch_size=128)"
   ]
  },
  {
   "cell_type": "code",
   "execution_count": 83,
   "metadata": {},
   "outputs": [
    {
     "name": "stdout",
     "output_type": "stream",
     "text": [
      "5 1\n"
     ]
    }
   ],
   "source": [
    "n,m= map(int,raw_input().split())"
   ]
  },
  {
   "cell_type": "code",
   "execution_count": 88,
   "metadata": {
    "scrolled": true
   },
   "outputs": [
    {
     "name": "stdout",
     "output_type": "stream",
     "text": [
      "1\n",
      "2\n",
      "3\n",
      "4\n",
      "5\n",
      "test shape  \n",
      "(1, 1, 100)\n",
      "L2 norm  \n",
      "[[[7.8059072]]]\n"
     ]
    }
   ],
   "source": [
    "for i in range(m):\n",
    "    test = []\n",
    "    for j in range(0,n):\n",
    "        test.append((raw_input()))\n",
    "    for j in range(n,100):\n",
    "        test.append(0)\n",
    "    test = np.array(test)\n",
    "    test = np.expand_dims(test,axis = 1)\n",
    "    test = np.transpose(test)\n",
    "    test = np.expand_dims(test,axis = 0)\n",
    "    print('test shape  ')\n",
    "    print(test.shape)\n",
    "    res = model.predict(test)\n",
    "    print ('L2 norm  ')\n",
    "    print(res)"
   ]
  },
  {
   "cell_type": "code",
   "execution_count": null,
   "metadata": {},
   "outputs": [],
   "source": [
    "\n",
    "\n"
   ]
  },
  {
   "cell_type": "code",
   "execution_count": null,
   "metadata": {},
   "outputs": [],
   "source": []
  },
  {
   "cell_type": "code",
   "execution_count": null,
   "metadata": {},
   "outputs": [],
   "source": []
  },
  {
   "cell_type": "code",
   "execution_count": null,
   "metadata": {},
   "outputs": [],
   "source": []
  }
 ],
 "metadata": {
  "kernelspec": {
   "display_name": "Python 2",
   "language": "python",
   "name": "python2"
  },
  "language_info": {
   "codemirror_mode": {
    "name": "ipython",
    "version": 2
   },
   "file_extension": ".py",
   "mimetype": "text/x-python",
   "name": "python",
   "nbconvert_exporter": "python",
   "pygments_lexer": "ipython2",
   "version": "2.7.12"
  }
 },
 "nbformat": 4,
 "nbformat_minor": 2
}
